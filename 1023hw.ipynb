{
 "cells": [
  {
   "cell_type": "markdown",
   "metadata": {},
   "source": [
    "# 作業一\n",
    "### 記帳 "
   ]
  },
  {
   "cell_type": "code",
   "execution_count": 2,
   "metadata": {},
   "outputs": [
    {
     "name": "stdout",
     "output_type": "stream",
     "text": [
      "請問你現在有多少錢？5000\n",
      "紀錄收入請輸入I/紀錄支出請輸入E/查看餘額請輸入balance/結束請輸入break： I\n",
      "請問收入為多少？ 1000\n",
      "紀錄收入請輸入I/紀錄支出請輸入E/查看餘額請輸入balance/結束請輸入break： E\n",
      "請問支出為多少？ 500\n",
      "紀錄收入請輸入I/紀錄支出請輸入E/查看餘額請輸入balance/結束請輸入break： balance\n",
      "目前帳目共： 5500 元\n",
      "紀錄收入請輸入I/紀錄支出請輸入E/查看餘額請輸入balance/結束請輸入break： break\n",
      "end\n"
     ]
    }
   ],
   "source": [
    "initial_money = input('請問你現在有多少錢？')\n",
    "initial_money = int(initial_money)\n",
    "\n",
    "while(True):\n",
    "    money_change = input('紀錄收入請輸入I/紀錄支出請輸入E/查看餘額請輸入balance/結束請輸入break： ')\n",
    "    if money_change == 'I':\n",
    "        i_dollar = input('請問收入為多少？ ')\n",
    "        i_dollar = int(i_dollar)\n",
    "        initial_money = initial_money+i_dollar\n",
    "        \n",
    "    elif money_change == 'E':\n",
    "        e_dollar = input('請問支出為多少？ ')\n",
    "        e_dollar = int(e_dollar)\n",
    "        initial_money = initial_money-e_dollar\n",
    "    \n",
    "    elif money_change == 'balance':\n",
    "        print('目前帳目共：',str(initial_money),'元')\n",
    "        \n",
    "    elif money_change == 'break':\n",
    "        print('end')\n",
    "        break\n",
    "        \n",
    "    else:\n",
    "        pass"
   ]
  },
  {
   "cell_type": "markdown",
   "metadata": {},
   "source": [
    "# 作業二\n",
    "### 區間質數"
   ]
  },
  {
   "cell_type": "code",
   "execution_count": 3,
   "metadata": {},
   "outputs": [
    {
     "name": "stdout",
     "output_type": "stream",
     "text": [
      "請輸入區間起始值：11\n",
      "請輸入區間最後值：25\n",
      "11\n",
      "13\n",
      "17\n",
      "19\n",
      "23\n"
     ]
    }
   ],
   "source": [
    "\n",
    "start = input('請輸入區間起始值：')\n",
    "end = input('請輸入區間最後值：')\n",
    "\n",
    "start = int(start)\n",
    "end = int(end)\n",
    "  \n",
    "for val in range(start, end + 1): \n",
    "\n",
    "    if val > 1: \n",
    "        for n in range(2, val): \n",
    "            if (val % n) == 0: \n",
    "                break\n",
    "        else: \n",
    "            print(val) "
   ]
  },
  {
   "cell_type": "markdown",
   "metadata": {},
   "source": [
    "# 作業三\n",
    "### 區分奇數和偶數"
   ]
  },
  {
   "cell_type": "code",
   "execution_count": 11,
   "metadata": {},
   "outputs": [
    {
     "name": "stdout",
     "output_type": "stream",
     "text": [
      "請輸入數字 / 輸入break跳出：3\n",
      "請輸入數字 / 輸入break跳出：10\n",
      "請輸入數字 / 輸入break跳出：5\n",
      "請輸入數字 / 輸入break跳出：15\n",
      "請輸入數字 / 輸入break跳出：4\n",
      "請輸入數字 / 輸入break跳出：100\n",
      "請輸入數字 / 輸入break跳出：break\n",
      "奇數有： [3, 5, 15]\n",
      "偶數有： [10, 4, 100]\n"
     ]
    }
   ],
   "source": [
    "num_list = []\n",
    "odd_list = []\n",
    "even_list = []\n",
    "\n",
    "while(True):\n",
    "    number = input('請輸入數字 / 輸入break跳出：')\n",
    "    if number == 'break':\n",
    "        print('奇數有：',odd_list)\n",
    "        print('偶數有：',even_list)\n",
    "        break\n",
    "    else:\n",
    "        num_list.append(int(number))\n",
    "        \n",
    "        for num in num_list: \n",
    "            if num % 2 == 0: \n",
    "                even_list.append(num)\n",
    "                num_list.remove(num)\n",
    "            else:\n",
    "                odd_list.append(num)\n",
    "                num_list.remove(num)\n"
   ]
  },
  {
   "cell_type": "markdown",
   "metadata": {},
   "source": [
    "# 作業四\n",
    "### 出現的字及其次數"
   ]
  },
  {
   "cell_type": "code",
   "execution_count": 21,
   "metadata": {},
   "outputs": [
    {
     "name": "stdout",
     "output_type": "stream",
     "text": [
      "請輸入一個字串：huijrewbojjjjr\n",
      "Count of all characters is :\n",
      "  {'h': 1, 'u': 1, 'i': 1, 'j': 5, 'r': 2, 'e': 1, 'w': 1, 'b': 1, 'o': 1}\n"
     ]
    }
   ],
   "source": [
    "input_str = input('請輸入一個字串：')\n",
    "test_str = \"GeeksforGeeks\"\n",
    "\n",
    "all_freq = {} \n",
    "  \n",
    "for i in input_str: \n",
    "    if i in all_freq: \n",
    "        all_freq[i] += 1\n",
    "    else: \n",
    "        all_freq[i] = 1\n",
    "        \n",
    "print (\"Count of all characters is :\\n \",str(all_freq)) \n"
   ]
  }
 ],
 "metadata": {
  "kernelspec": {
   "display_name": "Python 3",
   "language": "python",
   "name": "python3"
  },
  "language_info": {
   "codemirror_mode": {
    "name": "ipython",
    "version": 3
   },
   "file_extension": ".py",
   "mimetype": "text/x-python",
   "name": "python",
   "nbconvert_exporter": "python",
   "pygments_lexer": "ipython3",
   "version": "3.7.0"
  }
 },
 "nbformat": 4,
 "nbformat_minor": 2
}
