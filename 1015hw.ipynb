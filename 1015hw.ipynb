{
 "cells": [
  {
   "cell_type": "markdown",
   "metadata": {},
   "source": [
    "# 作業一\n",
    "### 輸入五個整數，把這五個數由小到大輸出。"
   ]
  },
  {
   "cell_type": "code",
   "execution_count": 1,
   "metadata": {},
   "outputs": [
    {
     "name": "stdout",
     "output_type": "stream",
     "text": [
      "請輸入數字：3\n",
      "請輸入數字：10\n",
      "請輸入數字：5\n",
      "請輸入數字：3\n",
      "請輸入數字：4\n",
      "[3, 3, 4, 5, 10]\n"
     ]
    }
   ],
   "source": [
    "after_sort = []\n",
    "for i in range(5):\n",
    "    x = int(input('請輸入數字：'))\n",
    "    after_sort.append(x)\n",
    "    \n",
    "after_sort.sort()\n",
    "print(after_sort)"
   ]
  },
  {
   "cell_type": "markdown",
   "metadata": {},
   "source": [
    "# 作業二\n",
    "### 單利 V.S 複利"
   ]
  },
  {
   "cell_type": "code",
   "execution_count": 11,
   "metadata": {},
   "outputs": [
    {
     "name": "stdout",
     "output_type": "stream",
     "text": [
      "請輸入約定利息：0.02\n",
      "請輸入存款金額：1000\n",
      "請輸入存款放置年數：6\n",
      "複利方式的本利和比單利方式的本利和多： 6.0 元\n"
     ]
    }
   ],
   "source": [
    "interest = float(input('請輸入約定利息：'))\n",
    "money = float(input('請輸入存款金額：'))\n",
    "year = float(input('請輸入存款放置年數：'))\n",
    "\n",
    "simple_answer = money+(money*interest)*year\n",
    "compound_answer = money*((1+interest)**year)\n",
    "compound_answer = round(compound_answer)\n",
    "\n",
    "print('複利方式的本利和比單利方式的本利和多：',compound_answer-simple_answer,'元')\n"
   ]
  },
  {
   "cell_type": "markdown",
   "metadata": {},
   "source": [
    "# 作業三\n",
    "### 輸入月份與日期，搜尋星座"
   ]
  },
  {
   "cell_type": "code",
   "execution_count": 16,
   "metadata": {},
   "outputs": [
    {
     "name": "stdout",
     "output_type": "stream",
     "text": [
      "請輸入生日月份：2\n",
      "請輸入生日日期：3\n",
      "你的星座是：水瓶座\n"
     ]
    }
   ],
   "source": [
    "month = int(input('請輸入生日月份：'))\n",
    "day = int(input('請輸入生日日期：'))\n",
    "\n",
    "if month == 1:\n",
    "    if day > 20:\n",
    "        print('你的星座是：水瓶座')\n",
    "    else:\n",
    "        print('你的星座是：摩羯座')\n",
    "\n",
    "if month == 2:\n",
    "    if day > 19:\n",
    "        print('你的星座是：雙魚座')\n",
    "    else:\n",
    "        print('你的星座是：水瓶座')\n",
    "        \n",
    "if month == 3:\n",
    "    if day > 20:\n",
    "        print('你的星座是：牡羊座')\n",
    "    else:\n",
    "        print('你的星座是：雙魚座')\n",
    "        \n",
    "if month == 4:\n",
    "    if day > 19:\n",
    "        print('你的星座是：金牛座')\n",
    "    else:\n",
    "        print('你的星座是：牡羊座')       \n",
    "        \n",
    "if month == 5:\n",
    "    if day > 20:\n",
    "        print('你的星座是：雙子座')\n",
    "    else:\n",
    "        print('你的星座是：金牛座')\n",
    "        \n",
    "if month == 6:\n",
    "    if day > 21:\n",
    "        print('你的星座是：巨蟹座')\n",
    "    else:\n",
    "        print('你的星座是：雙子座')\n",
    "        \n",
    "if month == 7:\n",
    "    if day > 22:\n",
    "        print('你的星座是：獅子座')\n",
    "    else:\n",
    "        print('你的星座是：巨蟹座')\n",
    "        \n",
    "if month == 8:\n",
    "    if day > 22:\n",
    "        print('你的星座是：處女座')\n",
    "    else:\n",
    "        print('你的星座是：獅子座')\n",
    "        \n",
    "if month == 9:\n",
    "    if day > 22:\n",
    "        print('你的星座是：天秤座')\n",
    "    else:\n",
    "        print('你的星座是：處女座') \n",
    "        \n",
    "if month == 10:\n",
    "    if day > 23:\n",
    "        print('你的星座是：天蠍座')\n",
    "    else:\n",
    "        print('你的星座是：天秤座')\n",
    "        \n",
    "if month == 11:\n",
    "    if day > 21:\n",
    "        print('你的星座是：射手座')\n",
    "    else:\n",
    "        print('你的星座是：天蠍座')\n",
    "        \n",
    "if month == 12:\n",
    "    if day > 20:\n",
    "        print('你的星座是：摩羯座')\n",
    "    else:\n",
    "        print('你的星座是：射手座')\n"
   ]
  },
  {
   "cell_type": "markdown",
   "metadata": {},
   "source": [
    "# 作業四\n",
    "### 找出隨機數字串列中的最大數"
   ]
  },
  {
   "cell_type": "code",
   "execution_count": 31,
   "metadata": {},
   "outputs": [],
   "source": [
    "import random"
   ]
  },
  {
   "cell_type": "code",
   "execution_count": 32,
   "metadata": {},
   "outputs": [
    {
     "name": "stdout",
     "output_type": "stream",
     "text": [
      "[90, 27, 57, 21, 3, 54, 54, 0, 78, 59]\n",
      "90\n"
     ]
    }
   ],
   "source": [
    "numbers = []\n",
    "max = 0\n",
    "for i in range(10):\n",
    "        number = random.randint(0,99)\n",
    "        if number > max:\n",
    "                max = number\n",
    "        numbers.append(number)\n",
    "print(numbers)\n",
    "print(max)"
   ]
  },
  {
   "cell_type": "code",
   "execution_count": null,
   "metadata": {},
   "outputs": [],
   "source": []
  },
  {
   "cell_type": "code",
   "execution_count": null,
   "metadata": {},
   "outputs": [],
   "source": []
  }
 ],
 "metadata": {
  "kernelspec": {
   "display_name": "Python 3",
   "language": "python",
   "name": "python3"
  },
  "language_info": {
   "codemirror_mode": {
    "name": "ipython",
    "version": 3
   },
   "file_extension": ".py",
   "mimetype": "text/x-python",
   "name": "python",
   "nbconvert_exporter": "python",
   "pygments_lexer": "ipython3",
   "version": "3.7.0"
  }
 },
 "nbformat": 4,
 "nbformat_minor": 2
}
